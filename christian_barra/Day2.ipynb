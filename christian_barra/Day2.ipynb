{
 "cells": [
  {
   "cell_type": "markdown",
   "metadata": {},
   "source": [
    "# Hello!\n",
    "# Day 2 - Python@PWr"
   ]
  },
  {
   "cell_type": "markdown",
   "metadata": {},
   "source": [
    "# Agenda of Today\n",
    "\n",
    "* How to run Python code\n",
    "* Variables\n",
    "* Strings\n",
    "* Integers\n",
    "* Lists\n",
    "* Dictionaries"
   ]
  },
  {
   "cell_type": "markdown",
   "metadata": {},
   "source": [
    "# How to run Python code"
   ]
  },
  {
   "cell_type": "markdown",
   "metadata": {},
   "source": [
    "Python programs are plain text (you can open them with your editor and read them).\n",
    "\n",
    "Usually the have __.py__ extension but is only a convention.\n",
    "\n",
    "# Python REPL (Read Evaluate Print Loop)\n",
    "Open the Python terminal or open your terminal and then type `python`\n",
    "\n",
    "\n",
    "![repl](repl.png)\n",
    "\n",
    "### LIVE DEMO"
   ]
  },
  {
   "cell_type": "markdown",
   "metadata": {},
   "source": [
    "# Run Python code\n",
    "Create a file called `hello.py` and put this text inside:\n",
    "```python\n",
    "# Output should be 'Hello there'\n",
    "print(\"Hello there!\")\n",
    "```\n",
    "Then from the terminal (or powershell if you windows) type:\n",
    "```\n",
    "python hello.py\n",
    "```"
   ]
  },
  {
   "cell_type": "markdown",
   "metadata": {},
   "source": [
    "Depending from your computer the command could be also:\n",
    "\n",
    "`python3 hello.py`\n",
    "\n",
    "### LIVE DEMO"
   ]
  },
  {
   "cell_type": "markdown",
   "metadata": {},
   "source": [
    "> ## HINT ##\n",
    "> Did you notice `#` inside the code? __It's how you put comments inside Python__"
   ]
  },
  {
   "cell_type": "markdown",
   "metadata": {},
   "source": [
    "# Challenge #1\n",
    "Take 2-3 minutes to play with the REPL and with running Python code try:\n",
    "\n",
    "\n",
    "```python\n",
    "# code 1\n",
    "print(Hello there!)\n",
    "```\n",
    "```python\n",
    "# code 2\n",
    "print(\"My name is:\")\n",
    "print(\"PutYourNameHere\")\n",
    "```\n",
    "```python\n",
    "# code 3\n",
    "print(\"I am\", PutYourAgeHere,\"old\")\n",
    "```"
   ]
  },
  {
   "cell_type": "markdown",
   "metadata": {},
   "source": [
    "# Key points\n",
    "\n",
    "* You can execute __Python__ code using the REPL and with `python your_file.py`\n",
    "* lines that start with `#` are comments\n",
    "* What about errors?"
   ]
  },
  {
   "cell_type": "markdown",
   "metadata": {},
   "source": [
    "# Variables"
   ]
  },
  {
   "cell_type": "markdown",
   "metadata": {},
   "source": [
    "__Variables__ is how you store data in Python\n",
    "\n",
    "Take a look at this example:\n",
    "\n",
    "```python\n",
    "first_name = \"Christian\"\n",
    "```\n",
    "We have 3 parts\n",
    "\n",
    "**first_name** is the name of our variable\n",
    "\n",
    "**=** means to assign the value of what you have on the right to the name of the left\n",
    "\n",
    "**\"Christian\"** is the value you want to assign to the variable named **first_name**\n",
    "\n",
    "# Let's try some code"
   ]
  },
  {
   "cell_type": "markdown",
   "metadata": {},
   "source": [
    "```python\n",
    "city = \"Wroclaw\"\n",
    "today = 29\n",
    "print(\"Today is\", today,\"in\", city)\n",
    "# output: Today is 29 in Wroclaw\n",
    "```"
   ]
  },
  {
   "cell_type": "markdown",
   "metadata": {},
   "source": [
    "```python\n",
    "# Code n.1\n",
    "my_age = 28\n",
    "your_age = \"22\"\n",
    "my_age + your_age\n",
    "# What's the output?\n",
    "```"
   ]
  },
  {
   "cell_type": "markdown",
   "metadata": {},
   "source": [
    "## small recap\n",
    "> you need to type this code inside your editor, save the file with the name that you prefer (for example code_1.py)\n",
    "\n",
    "> and then using the terminal **python code_1.py**"
   ]
  },
  {
   "cell_type": "markdown",
   "metadata": {},
   "source": [
    "```python\n",
    "# code n.2\n",
    "my_age = \"28\"\n",
    "your_age = \"22\"\n",
    "my_age + your_age\n",
    "# What's the output of this code?\n",
    "```\n",
    "\n",
    "```python\n",
    "# code n.3\n",
    "city = \"Wroclaw\"\n",
    "country = \"Poland\"\n",
    "print(city, \"is in\", country,)\n",
    "print(country, \"is in\", europe) \n",
    "# What's wrong with this code?\n",
    "```\n",
    "\n",
    "```python\n",
    "# code n.4\n",
    "initial = \"left\"\n",
    "position = initial\n",
    "initial = \"right\"\n",
    "print(position) \n",
    "# What's the value of `position`?\n",
    "```"
   ]
  },
  {
   "cell_type": "markdown",
   "metadata": {},
   "source": [
    "## Main types of variables\n",
    "\n",
    "* Strings\n",
    "* Integers\n",
    "* Lists\n",
    "* Dictionaries"
   ]
  },
  {
   "cell_type": "markdown",
   "metadata": {},
   "source": [
    "### Strings\n",
    "\n",
    "We have already met **strings**\n",
    "\n",
    "```python\n",
    "string_1 = 'This is a string'\n",
    "string_2 = \"This is also a string\"\n",
    "# multi-lines string\n",
    "string_3 = '''This is a multi lines\n",
    "            strings and it works fine'''\n",
    "string_3 = \"\"\"This is a multi lines\n",
    "            strings and it works fine\"\"\"\n",
    "```"
   ]
  },
  {
   "cell_type": "markdown",
   "metadata": {},
   "source": [
    "## - HINT - ##\n",
    "> you can use **'** or **\"** around your string to define it"
   ]
  },
  {
   "cell_type": "markdown",
   "metadata": {},
   "source": [
    "You can access a single letter of your string using the **[n]** notation where *n* is used as an index\n",
    "\n",
    "```python\n",
    "your_name = \"Christian\"\n",
    "print(\"First letter:\", your_name[1])\n",
    "# What do you expect from the output?\n",
    "```"
   ]
  },
  {
   "cell_type": "markdown",
   "metadata": {},
   "source": [
    "All the indexes start from **[0]**, **[1]** is the second element (if exists)\n",
    "\n",
    "```python\n",
    "your_name = \"Christian\"\n",
    "print(\"First letter:\", your_name[0])\n",
    "# What do you expect from the output?\n",
    "```\n",
    "\n",
    "### How can I print the first 4 letters of my name?\n",
    "\n",
    "```python\n",
    "your_name = \"Christian\"\n",
    "print(\"First letter:\", your_name[0])\n",
    "print(\"Second letter:\", your_name[1])\n",
    "print(\"Third letter:\", your_name[2])\n",
    "print(\"Fourth letter:\", your_name[3])\n",
    "# What do you expect from the output?\n",
    "```\n",
    "\n",
    "### But that's no really **pythonic** (AKA proper way of writing Python code)\n",
    "\n",
    "### Any idea? Slice.\n"
   ]
  },
  {
   "cell_type": "code",
   "execution_count": 31,
   "metadata": {},
   "outputs": [
    {
     "data": {
      "text/plain": [
       "'Chri'"
      ]
     },
     "execution_count": 31,
     "metadata": {},
     "output_type": "execute_result"
    }
   ],
   "source": [
    "your_name = \"Christian\"\n",
    "your_name[0:4]"
   ]
  },
  {
   "cell_type": "markdown",
   "metadata": {},
   "source": [
    "What are we saying to Python?\n",
    "To select letters from **index [0]** to the letter with index **[4] NOT INCLUDED**"
   ]
  },
  {
   "cell_type": "markdown",
   "metadata": {},
   "source": [
    "Strings in Python are **immutable** and it means you **cannot** change a string after you did the assignment\n",
    "\n",
    "```python\n",
    "my_string = \"Yoland\"\n",
    "my_string[0] = \"P\"\n",
    "print(my_string)\n",
    "# What's the output ?\n",
    "```"
   ]
  },
  {
   "cell_type": "markdown",
   "metadata": {},
   "source": [
    "```python\n",
    "my_string = \"Yoland\"\n",
    "my_string = \"P\" + my_string[1:]\n",
    "print(my_string)\n",
    "# What's the output ?\n",
    "```"
   ]
  },
  {
   "cell_type": "markdown",
   "metadata": {},
   "source": [
    "# Challenge #2\n",
    "Take around 5 minutes to play with this code:\n",
    "\n",
    "\n",
    "```python\n",
    "# code 1\n",
    "my_string = \"It5ly\"\n",
    "print(my_string)\n",
    "# How can I change this code to obtain 'Italy'?\n",
    "```\n",
    "```python\n",
    "# code 2\n",
    "string_1 = \"I live in Italy\"\n",
    "current_country = \"Poland\"\n",
    "print(my_string)\n",
    "# How can I change this code to obtain 'I live in Poland'?\n",
    "```"
   ]
  },
  {
   "cell_type": "markdown",
   "metadata": {},
   "source": [
    "### Integers\n",
    "\n",
    "Integers are...well numbers\n",
    "\n",
    "```python\n",
    "integer_1 = 1\n",
    "integer_2 = 10\n",
    "integer_1 + integer_2 \n",
    "# integer_1 + integer_2 = ?\n",
    "```\n",
    "### Remeber that we cannot sum integers and strings\n",
    "```python\n",
    "integer_1 = 1\n",
    "integer_2 = \"10\"\n",
    "integer_1 + integer_2 \n",
    "# ERROR\n",
    "```\n",
    "## But we can do this\n",
    "\n",
    "```python\n",
    "integer_1 = 1\n",
    "integer_2 = \"10\"\n",
    "integer_1 + int(integer_2)\n",
    "# Output: 11\n",
    "```\n",
    "## If we convert a number to a string the output is different\n",
    "```python\n",
    "integer_1 = 1\n",
    "integer_2 = \"10\"\n",
    "str(integer_1) + integer_2\n",
    "# Output: ?\n",
    "```"
   ]
  },
  {
   "cell_type": "markdown",
   "metadata": {},
   "source": [
    "How can we know the type of a variable?\n",
    "\n",
    "```python\n",
    "this_is_a_string = \"Hello\"\n",
    "print(type(this_is_a_string))\n",
    "# Output: str\n",
    "\n",
    "this_is_a_string = \"1\"\n",
    "print(type(this_is_a_string))\n",
    "# Output: str\n",
    "\n",
    "this_is_a_number = 1\n",
    "print(type(this_is_a_number))\n",
    "# Output: int\n",
    "\n",
    "this_is_a_number = 5/2\n",
    "print(type(this_is_a_number))\n",
    "# Output: ?\n",
    "```"
   ]
  },
  {
   "cell_type": "markdown",
   "metadata": {},
   "source": [
    "Can you slice a **number**?\n",
    "\n",
    "```python\n",
    "number = 500\n",
    "print(number[0])\n",
    "```\n",
    "\n",
    "# NO!"
   ]
  },
  {
   "cell_type": "markdown",
   "metadata": {},
   "source": [
    "## - HINT - ##\n",
    "> you cannot use **[index]** on a number, numbers are also immutable!"
   ]
  },
  {
   "cell_type": "markdown",
   "metadata": {},
   "source": [
    "# But what about this?\n",
    "```python\n",
    "number = 500\n",
    "print(str(number)[0])\n",
    "# Output: ?\n",
    "```"
   ]
  },
  {
   "cell_type": "markdown",
   "metadata": {},
   "source": [
    "# Challenge #3\n",
    "Take around 5 minutes to play with this code:\n",
    "\n",
    "\n",
    "```python\n",
    "# Try to convert from EUR to PLN\n",
    "# 1 EUR = 4,3 PLN\n",
    "euro_in_my_pocket = 100\n",
    "pln_in_my_pocket = change_the_code_here\n",
    "print(pln_in_my_pocket)\n",
    "# How can I change this code to have the value of my money in PLN?\n",
    "```"
   ]
  },
  {
   "cell_type": "markdown",
   "metadata": {},
   "source": [
    "### Lists\n",
    "\n",
    "### I **love** lists!\n",
    "Lists are a **indexed** collections of (also mixed) elements.\n",
    "With **mixed** I mean you can put different types of variables.\n",
    "\n",
    "This is how you create a list\n",
    "```python\n",
    "my_first_list = [1,2,3,4,5]\n",
    "print(my_first_list)\n",
    "a_mixed_list = [1,2,\"Ciao\"]\n",
    "print(a_mixed_list)\n",
    "```\n",
    "### What is the type of a list?\n",
    "```python\n",
    "empty_list = []\n",
    "print(type(empty_list))\n",
    "# Output: ?\n",
    "```\n",
    "## Can I sum 2 lists?\n",
    "\n",
    "```python\n",
    "my_first_list = [1,2,3,4,5]\n",
    "a_mixed_list = [1,2,\"Ciao\"]\n",
    "new_list = my_first_list + a_mixed_list\n",
    "print(new_list)\n",
    "# Output: ?\n",
    "```\n",
    "## What about the difference?\n",
    "```python\n",
    "my_first_list = [1,2,3,4,5]\n",
    "a_mixed_list = [1,2,\"Ciao\"]\n",
    "new_list = my_first_list - a_mixed_list\n",
    "print(new_list)\n",
    "# Output: ?\n",
    "```\n",
    "## And moltiplication?\n",
    "```python\n",
    "my_first_list = [1,2,3,4,5]\n",
    "new_list = my_first_list * 5\n",
    "print(new_list)\n",
    "# Output: ?\n",
    "```\n",
    "## And division?\n",
    "```python\n",
    "my_first_list = [1,2,3,4,5]\n",
    "new_list = my_first_list * 5\n",
    "print(new_list)\n",
    "# Output: ?\n",
    "```"
   ]
  },
  {
   "cell_type": "markdown",
   "metadata": {},
   "source": [
    "## How can I add a new element to a list?"
   ]
  },
  {
   "cell_type": "code",
   "execution_count": 111,
   "metadata": {},
   "outputs": [
    {
     "data": {
      "text/plain": [
       "[1, 2, 3, 4]"
      ]
     },
     "execution_count": 111,
     "metadata": {},
     "output_type": "execute_result"
    }
   ],
   "source": [
    "my_first_list = [1,2,3]\n",
    "my_first_list = my_first_list + [4]\n",
    "my_first_list"
   ]
  },
  {
   "cell_type": "markdown",
   "metadata": {},
   "source": [
    "### It works but is not the proper way, use `append`"
   ]
  },
  {
   "cell_type": "code",
   "execution_count": 128,
   "metadata": {},
   "outputs": [
    {
     "data": {
      "text/plain": [
       "[1, 2, 3, 4]"
      ]
     },
     "execution_count": 128,
     "metadata": {},
     "output_type": "execute_result"
    }
   ],
   "source": [
    "my_first_list = [1,2,3]\n",
    "my_first_list.append(4)\n",
    "my_first_list"
   ]
  },
  {
   "cell_type": "markdown",
   "metadata": {},
   "source": [
    "## How can I remove a element from a list?"
   ]
  },
  {
   "cell_type": "code",
   "execution_count": 129,
   "metadata": {},
   "outputs": [
    {
     "data": {
      "text/plain": [
       "[1, 2]"
      ]
     },
     "execution_count": 129,
     "metadata": {},
     "output_type": "execute_result"
    }
   ],
   "source": [
    "my_first_list = [1,2,3]\n",
    "# Do you understand the notation?\n",
    "my_first_list = my_first_list[:-1]\n",
    "my_first_list"
   ]
  },
  {
   "cell_type": "code",
   "execution_count": 114,
   "metadata": {},
   "outputs": [],
   "source": [
    "### It works but is not the proper way, use `pop`, it takes 1 parameter, index of the element you want to remove"
   ]
  },
  {
   "cell_type": "code",
   "execution_count": 115,
   "metadata": {},
   "outputs": [
    {
     "data": {
      "text/plain": [
       "[1, 2]"
      ]
     },
     "execution_count": 115,
     "metadata": {},
     "output_type": "execute_result"
    }
   ],
   "source": [
    "my_first_list = [1,2,3]\n",
    "my_first_list.pop(-1)\n",
    "my_first_list"
   ]
  },
  {
   "cell_type": "markdown",
   "metadata": {},
   "source": [
    "### Perhaps you need to make a copy of a list...."
   ]
  },
  {
   "cell_type": "code",
   "execution_count": 130,
   "metadata": {},
   "outputs": [
    {
     "data": {
      "text/plain": [
       "[0, 2, 3]"
      ]
     },
     "execution_count": 130,
     "metadata": {},
     "output_type": "execute_result"
    }
   ],
   "source": [
    "my_first_list = [1,2,3]\n",
    "my_second_list = my_first_list\n",
    "my_first_list[0] = 0\n",
    "# What's the output?\n",
    "my_second_list"
   ]
  },
  {
   "cell_type": "code",
   "execution_count": 131,
   "metadata": {},
   "outputs": [
    {
     "data": {
      "text/plain": [
       "[1, 2, 3]"
      ]
     },
     "execution_count": 131,
     "metadata": {},
     "output_type": "execute_result"
    }
   ],
   "source": [
    "my_first_list = [1,2,3]\n",
    "my_second_list = my_first_list[:]\n",
    "my_first_list[0] = 0\n",
    "# What's the output?\n",
    "my_second_list"
   ]
  },
  {
   "cell_type": "markdown",
   "metadata": {},
   "source": [
    "### Dictionary\n",
    "\n",
    "Dictionaries are a key=value collection, they are not ordered (opposed to **lists that are ordered**) and you can put mixed types of variables inside (as for the **lists**.\n",
    "\n",
    "This is how you create a dictionary:"
   ]
  },
  {
   "cell_type": "code",
   "execution_count": 140,
   "metadata": {},
   "outputs": [
    {
     "name": "stdout",
     "output_type": "stream",
     "text": [
      "{'my_key': 'my_value'}\n"
     ]
    }
   ],
   "source": [
    "my_first_dictionary = {\"my_key\":\"my_value\"}\n",
    "print(my_first_dictionary)"
   ]
  },
  {
   "cell_type": "markdown",
   "metadata": {},
   "source": [
    "### What is the type of a dictionary?"
   ]
  },
  {
   "cell_type": "code",
   "execution_count": 139,
   "metadata": {},
   "outputs": [
    {
     "name": "stdout",
     "output_type": "stream",
     "text": [
      "<class 'dict'>\n"
     ]
    }
   ],
   "source": [
    "empty_dict = {}\n",
    "print(type(empty_dict))"
   ]
  },
  {
   "cell_type": "markdown",
   "metadata": {},
   "source": [
    "### Adding new elements to a dict or changing the existing ones"
   ]
  },
  {
   "cell_type": "code",
   "execution_count": 189,
   "metadata": {},
   "outputs": [
    {
     "name": "stdout",
     "output_type": "stream",
     "text": [
      "{'my_key': 'my_value', 'my_second_key': 5}\n",
      "{'my_key': 'This is a new value', 'my_second_key': 5}\n"
     ]
    }
   ],
   "source": [
    "my_first_dictionary = {\"my_key\":\"my_value\"}\n",
    "my_first_dictionary[\"my_second_key\"] = 5\n",
    "print(my_first_dictionary)\n",
    "my_first_dictionary[\"my_key\"] = \"This is a new value\"\n",
    "print(my_first_dictionary)"
   ]
  },
  {
   "cell_type": "markdown",
   "metadata": {},
   "source": [
    "#### Remember that if the key exists you will overwrite the value for that key"
   ]
  },
  {
   "cell_type": "markdown",
   "metadata": {},
   "source": [
    "## Can I sum 2 dicts?"
   ]
  },
  {
   "cell_type": "code",
   "execution_count": 141,
   "metadata": {},
   "outputs": [
    {
     "ename": "TypeError",
     "evalue": "unsupported operand type(s) for +: 'dict' and 'dict'",
     "output_type": "error",
     "traceback": [
      "\u001b[0;31m---------------------------------------------------------------------------\u001b[0m",
      "\u001b[0;31mTypeError\u001b[0m                                 Traceback (most recent call last)",
      "\u001b[0;32m<ipython-input-141-232ffa38f5f1>\u001b[0m in \u001b[0;36m<module>\u001b[0;34m()\u001b[0m\n\u001b[1;32m      1\u001b[0m \u001b[0mmy_first_dictionary\u001b[0m \u001b[0;34m=\u001b[0m \u001b[0;34m{\u001b[0m\u001b[0;34m\"my_key\"\u001b[0m\u001b[0;34m:\u001b[0m\u001b[0;34m\"my_value\"\u001b[0m\u001b[0;34m}\u001b[0m\u001b[0;34m\u001b[0m\u001b[0m\n\u001b[1;32m      2\u001b[0m \u001b[0mmy_second_dictionary\u001b[0m \u001b[0;34m=\u001b[0m \u001b[0;34m{\u001b[0m\u001b[0;34m\"my_2_key\"\u001b[0m\u001b[0;34m:\u001b[0m\u001b[0;34m\"my_2_value\"\u001b[0m\u001b[0;34m}\u001b[0m\u001b[0;34m\u001b[0m\u001b[0m\n\u001b[0;32m----> 3\u001b[0;31m \u001b[0mnew_dict\u001b[0m \u001b[0;34m=\u001b[0m \u001b[0mmy_first_dictionary\u001b[0m \u001b[0;34m+\u001b[0m \u001b[0mmy_second_dictionary\u001b[0m\u001b[0;34m\u001b[0m\u001b[0m\n\u001b[0m\u001b[1;32m      4\u001b[0m \u001b[0mprint\u001b[0m\u001b[0;34m(\u001b[0m\u001b[0mnew_dict\u001b[0m\u001b[0;34m)\u001b[0m\u001b[0;34m\u001b[0m\u001b[0m\n",
      "\u001b[0;31mTypeError\u001b[0m: unsupported operand type(s) for +: 'dict' and 'dict'"
     ]
    }
   ],
   "source": [
    "my_first_dictionary = {\"my_key\":\"my_value\"}\n",
    "my_second_dictionary = {\"my_2_key\":\"my_2_value\"}\n",
    "new_dict = my_first_dictionary + my_second_dictionary\n",
    "print(new_dict)"
   ]
  },
  {
   "cell_type": "markdown",
   "metadata": {},
   "source": [
    "### One way is to use the `update` method:"
   ]
  },
  {
   "cell_type": "code",
   "execution_count": 150,
   "metadata": {},
   "outputs": [
    {
     "name": "stdout",
     "output_type": "stream",
     "text": [
      "{'my_key': 'my_value', 'my_2_key': 'my_2_value'}\n"
     ]
    }
   ],
   "source": [
    "my_first_dictionary = {\"my_key\":\"my_value\"}\n",
    "my_second_dictionary = {\"my_2_key\":\"my_2_value\"}\n",
    "new_dict = my_first_dictionary.update(my_second_dictionary)\n",
    "print(my_first_dictionary)"
   ]
  },
  {
   "cell_type": "markdown",
   "metadata": {},
   "source": [
    "### but pay attention to the same keys"
   ]
  },
  {
   "cell_type": "code",
   "execution_count": 151,
   "metadata": {},
   "outputs": [
    {
     "name": "stdout",
     "output_type": "stream",
     "text": [
      "{'my_key': 'my_2_value', '1': []}\n"
     ]
    }
   ],
   "source": [
    "my_first_dictionary = {\"my_key\":\"my_value\", \"1\": []}\n",
    "# they both have 1 element with the same key\n",
    "my_second_dictionary = {\"my_key\":\"my_2_value\"}\n",
    "new_dict = my_first_dictionary.update(my_second_dictionary)\n",
    "print(my_first_dictionary)"
   ]
  },
  {
   "cell_type": "markdown",
   "metadata": {},
   "source": [
    "### And if you want to delete an element?"
   ]
  },
  {
   "cell_type": "code",
   "execution_count": 184,
   "metadata": {},
   "outputs": [
    {
     "name": "stdout",
     "output_type": "stream",
     "text": [
      "{'1': []}\n"
     ]
    }
   ],
   "source": [
    "my_first_dictionary = {\"my_key\":\"my_value\", \"1\": []}\n",
    "del my_first_dictionary[\"my_key\"]\n",
    "print(my_first_dictionary)"
   ]
  },
  {
   "cell_type": "markdown",
   "metadata": {},
   "source": [
    "# Challenge #4\n",
    "Take around 5 minutes to play with this code:\n",
    "\n",
    "\n",
    "```python\n",
    "# Try to convert from EUR to PLN\n",
    "# 1 EUR = 4,3 PLN\n",
    "list_of_student_id = [1,2,3,4,5]\n",
    "student_names = {1: \"Christian\", 2:\"Monika\", 3: \"Lucasz\"}\n",
    "# Now I want to add the students that I miss from the list inside the dictionary\n",
    "# Use the way that you prefer, at the end you should obtain a dict with they keys that you don't have (4,5)\n",
    "```"
   ]
  },
  {
   "cell_type": "code",
   "execution_count": null,
   "metadata": {},
   "outputs": [],
   "source": []
  }
 ],
 "metadata": {
  "kernelspec": {
   "display_name": "Python 3",
   "language": "python",
   "name": "python3"
  },
  "language_info": {
   "codemirror_mode": {
    "name": "ipython",
    "version": 3
   },
   "file_extension": ".py",
   "mimetype": "text/x-python",
   "name": "python",
   "nbconvert_exporter": "python",
   "pygments_lexer": "ipython3",
   "version": "3.6.1"
  }
 },
 "nbformat": 4,
 "nbformat_minor": 2
}
