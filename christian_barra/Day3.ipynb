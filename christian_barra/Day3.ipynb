{
 "cells": [
  {
   "cell_type": "markdown",
   "metadata": {},
   "source": [
    "# Hello!\n",
    "# Day 3 - Python@PWr"
   ]
  },
  {
   "cell_type": "markdown",
   "metadata": {},
   "source": [
    "# Agenda of Today\n",
    "\n",
    "* Control flow & indentation \n",
    "* Loops\n",
    "* Functions and Generators\n",
    "* Modules\n",
    "* Put everything together"
   ]
  },
  {
   "cell_type": "markdown",
   "metadata": {},
   "source": [
    "# Control flow & indentation"
   ]
  },
  {
   "cell_type": "markdown",
   "metadata": {},
   "source": [
    "Flow control means to change the behaviour of your code depending from some conditions (True, False, minor, major or equal of something).\n",
    "In Python we have:\n",
    "* **if**\n",
    "* **else**\n",
    "* **elif**"
   ]
  },
  {
   "cell_type": "code",
   "execution_count": null,
   "metadata": {},
   "outputs": [],
   "source": [
    "counter = 5\n",
    "if counter > 1:\n",
    "    print(\"Major of 1\")\n",
    "else:\n",
    "    print(\"Minor of 1\")"
   ]
  },
  {
   "cell_type": "code",
   "execution_count": 144,
   "metadata": {},
   "outputs": [
    {
     "name": "stdout",
     "output_type": "stream",
     "text": [
      "Major of 1\n",
      "#1 counter is 5\n"
     ]
    }
   ],
   "source": [
    "counter = 5\n",
    "if counter > 1:\n",
    "    print(\"Major of 1\")\n",
    "    if counter == 5:\n",
    "        print(\"#1 counter is 5\")\n",
    "elif counter == 5:\n",
    "    print(\"#2 counter is 5\")\n",
    "else:\n",
    "    print(\"Minor of 1\")"
   ]
  },
  {
   "cell_type": "code",
   "execution_count": 145,
   "metadata": {},
   "outputs": [
    {
     "name": "stdout",
     "output_type": "stream",
     "text": [
      "Major of 1\n",
      "Counter is 5\n"
     ]
    }
   ],
   "source": [
    "counter = 5\n",
    "if counter > 1:\n",
    "    print(\"Major of 1\")\n",
    "if counter == 5:\n",
    "    print(\"Counter is 5\")\n",
    "else:\n",
    "    print(\"Minor of 1\")"
   ]
  },
  {
   "cell_type": "markdown",
   "metadata": {},
   "source": [
    "# Key points\n",
    "* with a chain of **if** **elif** and **else** only the code under the first satisfied condition is executed\n",
    "* **==** is to compare elements\n",
    "* Do you see that we don't have **{** **}** inside **if/elif/else? Python uses indentation"
   ]
  },
  {
   "cell_type": "markdown",
   "metadata": {},
   "source": [
    "# Loops"
   ]
  },
  {
   "cell_type": "markdown",
   "metadata": {},
   "source": [
    "Inside Python we have 2 loops **while** and **for**."
   ]
  },
  {
   "cell_type": "markdown",
   "metadata": {},
   "source": [
    "## While\n",
    "while is repeated till the expression results \"True\""
   ]
  },
  {
   "cell_type": "code",
   "execution_count": null,
   "metadata": {},
   "outputs": [],
   "source": [
    "# Count how many `2` inside the list\n",
    "my_list = [1,2,2,4,2]\n",
    "num_elements = 5\n",
    "counter = 0\n",
    "i = 0\n",
    "# i < num_elements is the expression\n",
    "while i < num_elements:\n",
    "    if my_list[i] == 2:\n",
    "        counter = counter + 1\n",
    "    i = i + 1\n",
    "print(\"Number of 2: \", counter)"
   ]
  },
  {
   "cell_type": "markdown",
   "metadata": {},
   "source": [
    "Say hello to **len()** a built-in function to get the length of a element:\n",
    "    * with strings you get the number of chars\n",
    "    * with lists/dicts number of elements"
   ]
  },
  {
   "cell_type": "markdown",
   "metadata": {},
   "source": [
    "### Challenge 1\n",
    "```python\n",
    "## try to use len in this code\n",
    "my_list = [1,2,2,4,2]\n",
    "num_elements = 5\n",
    "counter = 0\n",
    "i = 0\n",
    "while i < num_elements:\n",
    "    if my_list[i] == 2:\n",
    "        counter = counter + 1\n",
    "    i = i + 1\n",
    "print(\"Number of 2: \", counter)\n",
    "```"
   ]
  },
  {
   "cell_type": "code",
   "execution_count": null,
   "metadata": {},
   "outputs": [],
   "source": [
    "l = [1,2,2,4,2]\n",
    "counter = 0\n",
    "i = 0\n",
    "while i < len(l):\n",
    "    if l[i] == 2:\n",
    "        counter = counter + 1\n",
    "    i = i + 1\n",
    "print(\"Number of 2: \", counter)"
   ]
  },
  {
   "cell_type": "markdown",
   "metadata": {},
   "source": [
    "# For\n",
    "**for** iterates over an iterable object, this object should implement the iter protocol (that means having an __iter__ method)"
   ]
  },
  {
   "cell_type": "code",
   "execution_count": 146,
   "metadata": {},
   "outputs": [
    {
     "name": "stdout",
     "output_type": "stream",
     "text": [
      "C\n",
      "h\n",
      "r\n",
      "i\n",
      "s\n",
      "t\n",
      "i\n",
      "a\n",
      "n\n"
     ]
    }
   ],
   "source": [
    "my_string = \"Christian\"\n",
    "for letter in my_string:\n",
    "    print(letter)"
   ]
  },
  {
   "cell_type": "code",
   "execution_count": 147,
   "metadata": {},
   "outputs": [
    {
     "name": "stdout",
     "output_type": "stream",
     "text": [
      "C\n",
      "h\n",
      "r\n",
      "i\n",
      "s\n",
      "t\n",
      "i\n",
      "a\n",
      "n\n",
      "Everything was ok\n"
     ]
    }
   ],
   "source": [
    "my_string = \"Christian\"\n",
    "for letter in my_string:\n",
    "    print(letter)\n",
    "else:\n",
    "    print(\"Everything was ok\")"
   ]
  },
  {
   "cell_type": "code",
   "execution_count": 149,
   "metadata": {
    "collapsed": true
   },
   "outputs": [
    {
     "name": "stdout",
     "output_type": "stream",
     "text": [
      "C\n",
      "h\n",
      "r\n",
      "i\n",
      "s\n"
     ]
    }
   ],
   "source": [
    "my_string = \"Christian\"\n",
    "for letter in my_string:\n",
    "    print(letter)\n",
    "    if letter == \"s\":\n",
    "        break\n",
    "else:\n",
    "    print(\"Everything was ok\")"
   ]
  },
  {
   "cell_type": "markdown",
   "metadata": {},
   "source": [
    "# Functions\n",
    "Functions are a way to write reusable code, you write function using the `def` word followed my the name of the function.\n",
    "\n",
    "```python\n",
    "def name_of_the_function(arguments):\n",
    "    # body of the function\n",
    "```"
   ]
  },
  {
   "cell_type": "code",
   "execution_count": 150,
   "metadata": {},
   "outputs": [
    {
     "name": "stdout",
     "output_type": "stream",
     "text": [
      "This is my function\n"
     ]
    }
   ],
   "source": [
    "def MyFunction():\n",
    "    print(\"This is my function\")\n",
    "MyFunction()"
   ]
  },
  {
   "cell_type": "markdown",
   "metadata": {},
   "source": [
    "You call a function using `NameOfYourFunction()`\n",
    "\n",
    "A function can return something or not."
   ]
  },
  {
   "cell_type": "code",
   "execution_count": 152,
   "metadata": {},
   "outputs": [
    {
     "data": {
      "text/plain": [
       "str"
      ]
     },
     "execution_count": 152,
     "metadata": {},
     "output_type": "execute_result"
    }
   ],
   "source": [
    "def MyName():\n",
    "    return \"Christian\"\n",
    "type(MyName())"
   ]
  },
  {
   "cell_type": "code",
   "execution_count": 153,
   "metadata": {},
   "outputs": [],
   "source": [
    "def MySuperF(name, number):\n",
    "    # name and number are arguments\n",
    "    if number == 0:\n",
    "        print(\"You put 0\")\n",
    "    print(name)"
   ]
  },
  {
   "cell_type": "code",
   "execution_count": 154,
   "metadata": {},
   "outputs": [
    {
     "name": "stdout",
     "output_type": "stream",
     "text": [
      "Christian\n"
     ]
    }
   ],
   "source": [
    "MySuperF(\"Christian\", 1)"
   ]
  },
  {
   "cell_type": "code",
   "execution_count": 155,
   "metadata": {},
   "outputs": [
    {
     "name": "stdout",
     "output_type": "stream",
     "text": [
      "You put 0\n",
      "Christian\n"
     ]
    }
   ],
   "source": [
    "MySuperF(\"Christian\", 0)"
   ]
  },
  {
   "cell_type": "code",
   "execution_count": 156,
   "metadata": {},
   "outputs": [],
   "source": [
    "def MySuperF(name=\"Christian\", number=5, y=None):\n",
    "    if number == 0:\n",
    "        print(\"You put 0\")\n",
    "    print(name)"
   ]
  },
  {
   "cell_type": "code",
   "execution_count": 158,
   "metadata": {},
   "outputs": [
    {
     "name": "stdout",
     "output_type": "stream",
     "text": [
      "You put 0\n",
      "0\n"
     ]
    }
   ],
   "source": [
    "MySuperF(0,0)"
   ]
  },
  {
   "cell_type": "code",
   "execution_count": 159,
   "metadata": {},
   "outputs": [
    {
     "name": "stdout",
     "output_type": "stream",
     "text": [
      "You put 0\n",
      "Christian\n"
     ]
    }
   ],
   "source": [
    "MySuperF(number=0)"
   ]
  },
  {
   "cell_type": "markdown",
   "metadata": {},
   "source": [
    "> ## HINT ##\n",
    "> The order of the parameters is important if you don't use the key=value notation."
   ]
  },
  {
   "cell_type": "code",
   "execution_count": 160,
   "metadata": {},
   "outputs": [],
   "source": [
    "def WeLoveDocs():\n",
    "    \"\"\"This is a doc string\n",
    "    Always, always, always put doc string in your code and functions\n",
    "    \"\"\""
   ]
  },
  {
   "cell_type": "code",
   "execution_count": 161,
   "metadata": {},
   "outputs": [
    {
     "data": {
      "text/plain": [
       "'This is a doc string\\n    Always, always, always put doc string in your code and functions\\n    '"
      ]
     },
     "execution_count": 161,
     "metadata": {},
     "output_type": "execute_result"
    }
   ],
   "source": [
    "WeLoveDocs.__doc__"
   ]
  },
  {
   "cell_type": "code",
   "execution_count": 162,
   "metadata": {},
   "outputs": [
    {
     "name": "stdout",
     "output_type": "stream",
     "text": [
      "Help on function WeLoveDocs in module __main__:\n",
      "\n",
      "WeLoveDocs()\n",
      "    This is a doc string\n",
      "    Always, always, always put doc string in your code and functions\n",
      "\n"
     ]
    }
   ],
   "source": [
    "help(WeLoveDocs)"
   ]
  },
  {
   "cell_type": "code",
   "execution_count": 163,
   "metadata": {},
   "outputs": [
    {
     "name": "stdout",
     "output_type": "stream",
     "text": [
      "10\n"
     ]
    }
   ],
   "source": [
    "KIND_OF_GLOBAL_VAR = 10\n",
    "def local_at_my_local_scoop():\n",
    "    print(KIND_OF_GLOBAL_VAR)\n",
    "local_at_my_local_scoop()"
   ]
  },
  {
   "cell_type": "code",
   "execution_count": 164,
   "metadata": {},
   "outputs": [
    {
     "name": "stdout",
     "output_type": "stream",
     "text": [
      "20 10\n"
     ]
    }
   ],
   "source": [
    "KIND_OF_GLOBAL_VAR = 10\n",
    "def local_at_my_local_scoop():\n",
    "    KIND_OF_GLOBAL_VAR = 20\n",
    "    return KIND_OF_GLOBAL_VAR\n",
    "value = local_at_my_local_scoop()\n",
    "print(value, KIND_OF_GLOBAL_VAR)"
   ]
  },
  {
   "cell_type": "code",
   "execution_count": null,
   "metadata": {},
   "outputs": [],
   "source": [
    "myfunc(my_l)"
   ]
  },
  {
   "cell_type": "markdown",
   "metadata": {},
   "source": [
    "> ## HINT ##\n",
    "> What you define in a function is, **most of the time**, local\n",
    "> it lives and dies inside the function"
   ]
  },
  {
   "cell_type": "markdown",
   "metadata": {},
   "source": [
    "# Generators \n",
    "**Generators** are....to keep this short with functions you use return with generators you use yield."
   ]
  },
  {
   "cell_type": "code",
   "execution_count": 165,
   "metadata": {},
   "outputs": [],
   "source": [
    "def Gen(x):\n",
    "    x = x\n",
    "    while x < 20:\n",
    "        print(\"Inside the while loop\")\n",
    "        print(\"Before Yield\")\n",
    "        yield x\n",
    "        print(\"After yield\")\n",
    "        x = x + 1"
   ]
  },
  {
   "cell_type": "code",
   "execution_count": null,
   "metadata": {},
   "outputs": [],
   "source": [
    "x"
   ]
  },
  {
   "cell_type": "code",
   "execution_count": 182,
   "metadata": {},
   "outputs": [],
   "source": [
    "f = Gen(18)"
   ]
  },
  {
   "cell_type": "code",
   "execution_count": 183,
   "metadata": {},
   "outputs": [
    {
     "name": "stdout",
     "output_type": "stream",
     "text": [
      "Inside the while loop\n",
      "Before Yield\n"
     ]
    },
    {
     "data": {
      "text/plain": [
       "18"
      ]
     },
     "execution_count": 183,
     "metadata": {},
     "output_type": "execute_result"
    }
   ],
   "source": [
    "next(f)"
   ]
  },
  {
   "cell_type": "code",
   "execution_count": 184,
   "metadata": {},
   "outputs": [
    {
     "name": "stdout",
     "output_type": "stream",
     "text": [
      "After yield\n",
      "Inside the while loop\n",
      "Before Yield\n"
     ]
    },
    {
     "data": {
      "text/plain": [
       "19"
      ]
     },
     "execution_count": 184,
     "metadata": {},
     "output_type": "execute_result"
    }
   ],
   "source": [
    "next(f)"
   ]
  },
  {
   "cell_type": "code",
   "execution_count": 185,
   "metadata": {},
   "outputs": [
    {
     "name": "stdout",
     "output_type": "stream",
     "text": [
      "After yield\n"
     ]
    },
    {
     "ename": "StopIteration",
     "evalue": "",
     "output_type": "error",
     "traceback": [
      "\u001b[0;31m---------------------------------------------------------------------------\u001b[0m",
      "\u001b[0;31mStopIteration\u001b[0m                             Traceback (most recent call last)",
      "\u001b[0;32m<ipython-input-185-468f0afdf1b9>\u001b[0m in \u001b[0;36m<module>\u001b[0;34m()\u001b[0m\n\u001b[0;32m----> 1\u001b[0;31m \u001b[0mnext\u001b[0m\u001b[0;34m(\u001b[0m\u001b[0mf\u001b[0m\u001b[0;34m)\u001b[0m\u001b[0;34m\u001b[0m\u001b[0m\n\u001b[0m",
      "\u001b[0;31mStopIteration\u001b[0m: "
     ]
    }
   ],
   "source": [
    "next(f)"
   ]
  },
  {
   "cell_type": "markdown",
   "metadata": {},
   "source": [
    "# Modules\n",
    "Modules are a simple way to organize your code\n",
    "\n",
    "\n",
    "Inside the same directory create 2 files\n",
    "\n",
    "```python\n",
    "# utils.py\n",
    "def my_func():\n",
    "    print(\"hello\")\n",
    "    \n",
    "my_name = \"Christian\"\n",
    "```\n",
    "\n",
    "```python\n",
    "# app.py\n",
    "from utils import my_func, my_name\n",
    "my_func()\n",
    "print(my_name)\n",
    "```\n",
    "\n",
    "`python app.py`"
   ]
  },
  {
   "cell_type": "markdown",
   "metadata": {},
   "source": [
    "> ## HINT ##\n",
    "> You can import the all module or just the objects that you need"
   ]
  },
  {
   "cell_type": "markdown",
   "metadata": {},
   "source": [
    "```python\n",
    "# utils.py\n",
    "def my_func():\n",
    "    print(\"hello\")\n",
    "    \n",
    "my_name = \"Christian\"\n",
    "```\n",
    "\n",
    "```python\n",
    "# app.py\n",
    "import utils\n",
    "utils.my_func()\n",
    "print(utils.my_name)\n",
    "```\n",
    "\n",
    "`python app.py`"
   ]
  },
  {
   "cell_type": "markdown",
   "metadata": {},
   "source": [
    "# Challenges time!\n",
    "\n",
    "How does it work?\n",
    "1. You get a challenge\n",
    "2. You code inside your dir\n",
    "3. You push your code to your remote repository\n",
    "4. You make a pull request to my repository\n",
    "5. At the end of each challenge we are going to do some code review together (aka I will check your code)\n",
    "\n",
    "# Ready?"
   ]
  },
  {
   "cell_type": "markdown",
   "metadata": {},
   "source": [
    "# Challenge n.1\n",
    "\n",
    "Name for this file: **challenge_1.py**\n",
    "\n",
    "```python\n",
    "input_list = [1,2,3, None, 5]\n",
    "\n",
    "def api_call(a_list):\n",
    "    '''This function takes a list of values and then it returns a integer \n",
    "    with the number of numbers in that list'''\n",
    "    \n",
    "    # put your code here\n",
    "    # leave the rest\n",
    "\n",
    "assert api_call(input_list) == 4\n",
    "```"
   ]
  },
  {
   "cell_type": "code",
   "execution_count": null,
   "metadata": {},
   "outputs": [],
   "source": [
    "# Challenge n.2\n",
    "\n",
    "Name for this file: **challenge_2.py**\n",
    "\n",
    "```python\n",
    "import random\n",
    "input_list = [random.randint(-1,1) for i in range(100)]\n",
    "\n",
    "def api_call(input_list):\n",
    "    '''This function takes a list of values and then it returns a list with the\n",
    "    same number of elements [True, False,...] where\n",
    "    True if element >= 0\n",
    "    False if element < 0'''\n",
    "    \n",
    "    # put your code here\n",
    "    # leave the rest\n",
    "\n",
    "```"
   ]
  },
  {
   "cell_type": "markdown",
   "metadata": {},
   "source": [
    "# Challenge n.3\n",
    "\n",
    "Name for this file: **challenge3.py**\n",
    "\n",
    "```python\n",
    "import random\n",
    "input_list = [random.randint(-10,10) for i in range(100)]\n",
    "\n",
    "def api_call(a_list):\n",
    "    '''This function takes a list of values and then it returns a dictionary\n",
    "    the dictionary has 3 keys:\n",
    "    bigger_0: number of numbers inside the given list > 0\n",
    "    lower_0: number of numbers inside the given list < 0\n",
    "    highest_freq: number that appears most in that list, if you hae more than one number with the same\n",
    "    frequency put highest_freq=None\n",
    "    \n",
    "    with the number of numbers in that list'''\n",
    "    \n",
    "    # put your code here\n",
    "    # leave the rest\n",
    "\n",
    "```"
   ]
  },
  {
   "cell_type": "markdown",
   "metadata": {},
   "source": [
    "# Challenge n.4\n",
    "\n",
    "Name for this file: **challenge_4.py**\n",
    "\n",
    "```python\n",
    "# the key of the dictionary is the ID of the person\n",
    "# inside the university\n",
    "db_university = { \"1AEF\" : {\n",
    "    \"first_name\": \"Christian\", \n",
    "    \"last_name\": \"Barra\", \n",
    "    \"status\" : \"Active\",\n",
    "    \"role\": \"Student\"\n",
    "    },\n",
    "    \"2BED\" : {\n",
    "    \"first_name\": \"Jolanta\", \n",
    "    \"last_name\": \"Pizza\", \n",
    "    \"status\" : \"Inactive\",\n",
    "    \"role\": \"Student\"\n",
    "    },\n",
    "    \"2BEC\" : {\n",
    "    \"first_name\": \"Wioletta\", \n",
    "    \"last_name\": \"\", \n",
    "    \"status\" : \"Inactive\",\n",
    "    \"role\": \"Student\"\n",
    "    },\n",
    "    \"4AEF\" : {\n",
    "    \"first_name\": \"Michal\", \n",
    "    \"last_name\": \"Bojano\", \n",
    "    \"status\" : \"Active\"\n",
    "    \"role\": \"Professor\"\n",
    "    \"students\": [\"1AEF\", \"2BED\"]\n",
    "    },\n",
    "    \"8ACF\" : {\n",
    "    \"first_name\": \"Salvatore\", \n",
    "    \"last_name\": \"Pedalino\", \n",
    "    \"status\" : \"Inactive\"\n",
    "    \"role\": \"Professor\"\n",
    "    \"students\": []\n",
    "    }}\n",
    "\n",
    "    \n",
    "def api_call(dict_object, id_inside_db):\n",
    "    '''This function takes a dict object and a id (unique identifier)\n",
    "    then the function should return:\n",
    "    \n",
    "    If the id is of a student a list with 3 elements [\"first_name\", \"last_name\", \"status\"]\n",
    "    If it's a professor a list with 4 elements [\"first_name\", \"last_name\", \"status\", [d_list] ]\n",
    "    \n",
    "    the 4th element is a list of dictionaries where each dict contains {\"name\": name, \"id\" : id}\n",
    "    :name is a string with the fist and last name \"Chritian Barra\"\n",
    "    :id is the id of that person \"1AEF\" in my case\n",
    "    the list must contain a dict for each student, and should be empty in case it has no students\n",
    "\n",
    "    '''\n",
    "    \n",
    "    # put your code here\n",
    "    # leave the rest\n",
    "\n",
    "```"
   ]
  },
  {
   "cell_type": "code",
   "execution_count": null,
   "metadata": {},
   "outputs": [],
   "source": []
  }
 ],
 "metadata": {
  "kernelspec": {
   "display_name": "Python 3",
   "language": "python",
   "name": "python3"
  },
  "language_info": {
   "codemirror_mode": {
    "name": "ipython",
    "version": 3
   },
   "file_extension": ".py",
   "mimetype": "text/x-python",
   "name": "python",
   "nbconvert_exporter": "python",
   "pygments_lexer": "ipython3",
   "version": "3.6.1"
  }
 },
 "nbformat": 4,
 "nbformat_minor": 2
}
